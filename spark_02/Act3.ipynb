{
 "cells": [
  {
   "cell_type": "code",
   "execution_count": 1,
   "metadata": {},
   "outputs": [],
   "source": [
    "import findspark\n",
    "findspark.init()"
   ]
  },
  {
   "cell_type": "code",
   "execution_count": 93,
   "metadata": {},
   "outputs": [],
   "source": [
    "import pyspark\n",
    "import os\n",
    "import subprocess\n",
    "import time\n",
    "import datetime\n",
    "import operator\n",
    "import matplotlib.pyplot as plt\n",
    "\n",
    "from subprocess import Popen, PIPE\n",
    "from pyspark.sql import SparkSession\n",
    "from collections import defaultdict\n",
    "from pyspark.sql.window import Window\n",
    "\n",
    "import pyspark.sql.functions as F\n",
    "from pyspark.sql.functions import col, asc,desc\n",
    "from pyspark.sql.functions import col, max as max_, min as min_, first, when\n",
    "from pyspark.sql.functions import trunc, avg, countDistinct"
   ]
  },
  {
   "cell_type": "code",
   "execution_count": 3,
   "metadata": {},
   "outputs": [],
   "source": [
    "spark = SparkSession.builder.appName(\"Activity3\").getOrCreate()"
   ]
  },
  {
   "cell_type": "markdown",
   "metadata": {},
   "source": [
    "## Load Dataset"
   ]
  },
  {
   "cell_type": "code",
   "execution_count": 4,
   "metadata": {},
   "outputs": [
    {
     "data": {
      "text/plain": [
       "['hdfs://localhost:54310/datasets/covid/part-00000-5f4af8d5-3171-48e9-9a56-c5a7c7a84cc3-c000.json',\n",
       " 'hdfs://localhost:54310/datasets/covid/part-00001-5f4af8d5-3171-48e9-9a56-c5a7c7a84cc3-c000.json']"
      ]
     },
     "execution_count": 4,
     "metadata": {},
     "output_type": "execute_result"
    }
   ],
   "source": [
    "# Generate full filenames\n",
    "hdfs_prefix = 'hdfs://localhost:54310'\n",
    "# hdfs_prefix = 'hdfs://localhost:9000'\n",
    "prefix = f'{hdfs_prefix}/datasets/covid/'\n",
    "filename_prefix = prefix+'part-'\n",
    "filename_suffix = '-5f4af8d5-3171-48e9-9a56-c5a7c7a84cc3-c000.json'\n",
    "\n",
    "filenames = []\n",
    "for i in range(2):\n",
    "    filenames.append(filename_prefix+f\"{i:05d}\"+filename_suffix)\n",
    "filenames"
   ]
  },
  {
   "cell_type": "code",
   "execution_count": 5,
   "metadata": {},
   "outputs": [],
   "source": [
    "# Read all into a dataframe\n",
    "df = spark.read.json(filenames)"
   ]
  },
  {
   "cell_type": "code",
   "execution_count": 6,
   "metadata": {},
   "outputs": [],
   "source": [
    "# Convert datetime string to datetime type\n",
    "df = df.withColumn(\"created_at\", col(\"created_at\").cast(\"timestamp\"))"
   ]
  },
  {
   "cell_type": "code",
   "execution_count": 8,
   "metadata": {},
   "outputs": [
    {
     "data": {
      "text/plain": [
       "['account_created_at',\n",
       " 'account_lang',\n",
       " 'country_code',\n",
       " 'created_at',\n",
       " 'favourites_count',\n",
       " 'followers_count',\n",
       " 'friends_count',\n",
       " 'is_quote',\n",
       " 'is_retweet',\n",
       " 'lang',\n",
       " 'place_full_name',\n",
       " 'place_type',\n",
       " 'reply_to_screen_name',\n",
       " 'reply_to_status_id',\n",
       " 'reply_to_user_id',\n",
       " 'retweet_count',\n",
       " 'screen_name',\n",
       " 'source',\n",
       " 'status_id',\n",
       " 'text',\n",
       " 'user_id',\n",
       " 'verified']"
      ]
     },
     "execution_count": 8,
     "metadata": {},
     "output_type": "execute_result"
    }
   ],
   "source": [
    "df.columns"
   ]
  },
  {
   "cell_type": "markdown",
   "metadata": {
    "heading_collapsed": true
   },
   "source": [
    "## The situation about the country"
   ]
  },
  {
   "cell_type": "code",
   "execution_count": 41,
   "metadata": {
    "hidden": true
   },
   "outputs": [
    {
     "name": "stdout",
     "output_type": "stream",
     "text": [
      "+------------+\n",
      "|country_code|\n",
      "+------------+\n",
      "|          GH|\n",
      "|           0|\n",
      "|        4432|\n",
      "|          US|\n",
      "|          US|\n",
      "|           3|\n",
      "|           0|\n",
      "|          AR|\n",
      "|           0|\n",
      "|           2|\n",
      "|          US|\n",
      "|          GE|\n",
      "|           3|\n",
      "|        5975|\n",
      "|        7554|\n",
      "|           0|\n",
      "|          US|\n",
      "|          GW|\n",
      "|          AU|\n",
      "|          US|\n",
      "+------------+\n",
      "only showing top 20 rows\n",
      "\n"
     ]
    }
   ],
   "source": [
    "df.select(\"country_code\").where(df.country_code.isNotNull()).show()"
   ]
  },
  {
   "cell_type": "code",
   "execution_count": 47,
   "metadata": {
    "hidden": true
   },
   "outputs": [
    {
     "name": "stdout",
     "output_type": "stream",
     "text": [
      "+------------+------+\n",
      "|country_code| count|\n",
      "+------------+------+\n",
      "|        null|470066|\n",
      "|          US|  5217|\n",
      "|           0|  3918|\n",
      "|          IN|  3053|\n",
      "|          GB|  1825|\n",
      "|       FALSE|  1569|\n",
      "|          ES|  1213|\n",
      "|           1|   944|\n",
      "|          TR|   857|\n",
      "|          FR|   731|\n",
      "|          MX|   670|\n",
      "|          IT|   666|\n",
      "|          BR|   658|\n",
      "|          CO|   550|\n",
      "|          NG|   525|\n",
      "|          CA|   519|\n",
      "|          AR|   516|\n",
      "|          CL|   509|\n",
      "|           2|   468|\n",
      "|          ZA|   451|\n",
      "+------------+------+\n",
      "only showing top 20 rows\n",
      "\n"
     ]
    }
   ],
   "source": [
    "df.groupby(\"country_code\").count().orderBy(col(\"count\").desc()).limit(100).show()"
   ]
  },
  {
   "cell_type": "markdown",
   "metadata": {
    "hidden": true
   },
   "source": [
    "'country_code' == 'US' || 'place_full_name' == 'US'"
   ]
  },
  {
   "cell_type": "code",
   "execution_count": 48,
   "metadata": {
    "hidden": true
   },
   "outputs": [
    {
     "name": "stdout",
     "output_type": "stream",
     "text": [
      "+--------------------+------+\n",
      "|     place_full_name| count|\n",
      "+--------------------+------+\n",
      "|                null|476067|\n",
      "|                   0|  1591|\n",
      "|               FALSE|   602|\n",
      "|                   1|   417|\n",
      "|       Mumbai, India|   326|\n",
      "|    New Delhi, India|   324|\n",
      "|   İstanbul, Türkiye|   317|\n",
      "|     Los Angeles, CA|   202|\n",
      "|       Manhattan, NY|   202|\n",
      "|                   2|   178|\n",
      "|Bogotá, D.C., Col...|   168|\n",
      "|       Madrid, Spain|   150|\n",
      "|Ciudad Autónoma d...|   150|\n",
      "|       Paris, France|   147|\n",
      "|      Quito, Ecuador|   124|\n",
      "|                   3|   123|\n",
      "|         Rome, Lazio|   119|\n",
      "|    Toronto, Ontario|   102|\n",
      "|      Lagos, Nigeria|    99|\n",
      "|      Washington, DC|    99|\n",
      "+--------------------+------+\n",
      "only showing top 20 rows\n",
      "\n"
     ]
    }
   ],
   "source": [
    "df.groupby(\"place_full_name\").count().orderBy(col(\"count\").desc()).limit(100).show()"
   ]
  },
  {
   "cell_type": "code",
   "execution_count": 49,
   "metadata": {
    "hidden": true
   },
   "outputs": [
    {
     "name": "stdout",
     "output_type": "stream",
     "text": [
      "+------------+------+\n",
      "|  place_type| count|\n",
      "+------------+------+\n",
      "|        null|478713|\n",
      "|        city| 18698|\n",
      "|       admin|  2526|\n",
      "|     country|  1034|\n",
      "|         poi|   786|\n",
      "|           0|   693|\n",
      "|       FALSE|   206|\n",
      "|           1|   157|\n",
      "|neighborhood|    90|\n",
      "|           2|    75|\n",
      "|           3|    46|\n",
      "|           4|    34|\n",
      "|           5|    24|\n",
      "|           8|    16|\n",
      "|           6|    13|\n",
      "|           7|    11|\n",
      "|          US|    10|\n",
      "|           9|    10|\n",
      "|        TRUE|     9|\n",
      "|          13|     8|\n",
      "+------------+------+\n",
      "only showing top 20 rows\n",
      "\n"
     ]
    }
   ],
   "source": [
    "df.groupby(\"place_type\").count().orderBy(col(\"count\").desc()).limit(100).show()"
   ]
  },
  {
   "cell_type": "markdown",
   "metadata": {
    "heading_collapsed": true
   },
   "source": [
    "## Grouping by date"
   ]
  },
  {
   "cell_type": "code",
   "execution_count": 33,
   "metadata": {
    "hidden": true
   },
   "outputs": [],
   "source": [
    "from pyspark.sql.functions import dayofmonth,date_trunc,to_date,current_timestamp"
   ]
  },
  {
   "cell_type": "code",
   "execution_count": 29,
   "metadata": {
    "hidden": true
   },
   "outputs": [
    {
     "name": "stdout",
     "output_type": "stream",
     "text": [
      "+-------------------+-----+\n",
      "|                day|count|\n",
      "+-------------------+-----+\n",
      "|2020-04-11 00:00:00| 2795|\n",
      "|2020-04-12 00:00:00|15847|\n",
      "|2020-04-13 00:00:00|14247|\n",
      "+-------------------+-----+\n",
      "\n"
     ]
    }
   ],
   "source": [
    "# Find metric and count ocurrences\n",
    "evolution = (\n",
    "    df \n",
    "        .select(date_trunc('day', df.created_at).alias('day'),\"text\")\n",
    "        .where(col(\"text\").contains(\"#covid\"))\n",
    "        .groupby(\"day\")\n",
    "        .count()\n",
    ")\n",
    "evolution.show()"
   ]
  },
  {
   "cell_type": "code",
   "execution_count": 36,
   "metadata": {
    "hidden": true
   },
   "outputs": [
    {
     "name": "stdout",
     "output_type": "stream",
     "text": [
      "+----------+-----+\n",
      "|       day|count|\n",
      "+----------+-----+\n",
      "|2020-04-11| 2795|\n",
      "|2020-04-12|15847|\n",
      "|2020-04-13|14247|\n",
      "+----------+-----+\n",
      "\n"
     ]
    }
   ],
   "source": [
    "df2 = evolution.withColumn(\"day\", to_date(\"day\"))\n",
    "df2.show()"
   ]
  },
  {
   "cell_type": "code",
   "execution_count": 20,
   "metadata": {
    "hidden": true
   },
   "outputs": [
    {
     "name": "stdout",
     "output_type": "stream",
     "text": [
      "+-------------------+-----+\n",
      "|                day|count|\n",
      "+-------------------+-----+\n",
      "|2020-04-11 21:00:36|    2|\n",
      "|2020-04-11 21:08:49|    1|\n",
      "|2020-04-11 21:20:40|    1|\n",
      "|2020-04-11 21:25:34|    1|\n",
      "|2020-04-11 21:31:51|    3|\n",
      "|2020-04-11 21:41:19|    2|\n",
      "|2020-04-11 21:41:38|    1|\n",
      "|2020-04-11 21:44:41|    1|\n",
      "|2020-04-11 21:49:20|    1|\n",
      "|2020-04-11 21:55:53|    1|\n",
      "|2020-04-11 22:13:02|    1|\n",
      "|2020-04-11 22:16:23|    1|\n",
      "|2020-04-11 22:17:51|    1|\n",
      "|2020-04-11 22:23:56|    1|\n",
      "|2020-04-11 22:42:55|    1|\n",
      "|2020-04-11 22:53:26|    1|\n",
      "|2020-04-11 22:53:49|    3|\n",
      "|2020-04-12 00:07:49|    2|\n",
      "|2020-04-12 00:20:37|    1|\n",
      "|2020-04-12 02:00:06|    2|\n",
      "+-------------------+-----+\n",
      "only showing top 20 rows\n",
      "\n"
     ]
    }
   ],
   "source": [
    "# Find metric and count ocurrences\n",
    "evolution = (\n",
    "    df \n",
    "        .select(\"created_at\",\"text\")\n",
    "        .where(col(\"text\").contains(\"#corona\"))\n",
    "        .groupby(col(\"created_at\").alias(\"day\"))\n",
    "        .count()\n",
    ")\n",
    "evolution.show()"
   ]
  },
  {
   "cell_type": "markdown",
   "metadata": {},
   "source": [
    "## Finding user using a tag per day"
   ]
  },
  {
   "cell_type": "code",
   "execution_count": 77,
   "metadata": {},
   "outputs": [
    {
     "name": "stdout",
     "output_type": "stream",
     "text": [
      "+-------------------+-----+\n",
      "|                day|count|\n",
      "+-------------------+-----+\n",
      "|2020-04-11 21:00:00|  860|\n",
      "|2020-04-13 06:00:00|  556|\n",
      "|2020-04-12 18:00:00|  387|\n",
      "|2020-04-12 10:00:00|  534|\n",
      "|2020-04-13 11:00:00|  812|\n",
      "|2020-04-13 15:00:00|  729|\n",
      "|2020-04-12 03:00:00|  861|\n",
      "|2020-04-12 20:00:00|  303|\n",
      "|2020-04-13 12:00:00|  808|\n",
      "|2020-04-13 05:00:00|  487|\n",
      "|2020-04-13 14:00:00|  709|\n",
      "|2020-04-13 03:00:00|  389|\n",
      "|2020-04-12 17:00:00|  423|\n",
      "|2020-04-13 07:00:00|  584|\n",
      "|2020-04-12 21:00:00|  310|\n",
      "|2020-04-12 13:00:00|  603|\n",
      "|2020-04-12 12:00:00|  562|\n",
      "|2020-04-13 13:00:00|  796|\n",
      "|2020-04-13 19:00:00|  452|\n",
      "|2020-04-13 10:00:00|  728|\n",
      "+-------------------+-----+\n",
      "only showing top 20 rows\n",
      "\n"
     ]
    }
   ],
   "source": [
    "# Find how many (distinct) users (not tweets) used the tag each day\n",
    "evolution = (\n",
    "    df \n",
    "        .select(date_trunc('hour', df.created_at).alias('day'),\"screen_name\")\n",
    "        .where(col(\"text\").contains(\"#covid\"))\n",
    "        .groupBy(\"day\")\n",
    "        .agg(countDistinct(\"screen_name\").alias(\"count\"))\n",
    ")\n",
    "evolution.show()"
   ]
  },
  {
   "cell_type": "markdown",
   "metadata": {},
   "source": [
    "## Rolling Average"
   ]
  },
  {
   "cell_type": "code",
   "execution_count": 84,
   "metadata": {},
   "outputs": [
    {
     "name": "stdout",
     "output_type": "stream",
     "text": [
      "+-------------------+-----------------+\n",
      "|                day|  rolling_average|\n",
      "+-------------------+-----------------+\n",
      "|2020-04-11 21:00:00|            860.0|\n",
      "|2020-04-11 22:00:00|            836.0|\n",
      "|2020-04-11 23:00:00|803.6666666666666|\n",
      "|2020-04-12 00:00:00|           774.25|\n",
      "|2020-04-12 01:00:00|            768.0|\n",
      "|2020-04-12 02:00:00|764.1666666666666|\n",
      "|2020-04-12 03:00:00|            778.0|\n",
      "|2020-04-12 04:00:00|          812.125|\n",
      "|2020-04-12 05:00:00|            848.5|\n",
      "|2020-04-12 06:00:00|          813.375|\n",
      "|2020-04-12 07:00:00|           783.25|\n",
      "|2020-04-12 08:00:00|          764.625|\n",
      "|2020-04-12 09:00:00|           735.75|\n",
      "|2020-04-12 10:00:00|          709.375|\n",
      "|2020-04-12 11:00:00|          673.125|\n",
      "|2020-04-12 12:00:00|            612.0|\n",
      "|2020-04-12 13:00:00|            543.5|\n",
      "|2020-04-12 14:00:00|          538.125|\n",
      "|2020-04-12 15:00:00|            541.0|\n",
      "|2020-04-12 16:00:00|          528.375|\n",
      "+-------------------+-----------------+\n",
      "only showing top 20 rows\n",
      "\n"
     ]
    }
   ],
   "source": [
    "# Weekly rolling average window\n",
    "w = (Window()\n",
    "     .orderBy(\"day\")\n",
    "     .rowsBetween(-7, 0))\n",
    "\n",
    "rolling = evolution.withColumn('rolling_average', avg('count').over(w))\n",
    "rolling = rolling.select(\"day\",\"rolling_average\")\n",
    "rolling.show()"
   ]
  },
  {
   "cell_type": "code",
   "execution_count": null,
   "metadata": {},
   "outputs": [],
   "source": [
    "rolling.coalesce(1).write.csv(\"myout3.csv\")"
   ]
  },
  {
   "cell_type": "code",
   "execution_count": 91,
   "metadata": {},
   "outputs": [],
   "source": [
    "# Convert last dataframe into dictionary for plotting\n",
    "rows = [list(row) for row in rolling.collect()]\n",
    "timeseries = {}\n",
    "for [date, avg] in rows:\n",
    "    timeseries[date] = avg"
   ]
  },
  {
   "cell_type": "code",
   "execution_count": 103,
   "metadata": {},
   "outputs": [
    {
     "data": {
      "image/png": "[encoded data removed]",
      "text/plain": [
       "<Figure size 2160x720 with 1 Axes>"
      ]
     },
     "metadata": {
      "needs_background": "light"
     },
     "output_type": "display_data"
    }
   ],
   "source": [
    "plt.figure(figsize=(30,10))\n",
    "plt.title(\"Rolling Average - Users tweeting '#covid' in April 2020\", fontsize=30)\n",
    "plt.plot(timeseries.keys(),timeseries.values(),marker=\"o\")\n",
    "plt.ylabel(\"Rolling Average\",fontsize=20)\n",
    "plt.yticks(fontsize=20)\n",
    "plt.xlabel(\"Date\",fontsize=20)\n",
    "plt.xticks(fontsize=20, rotation=0)\n",
    "plt.savefig('rolling_avergage.png', bbox_inches='tight')"
   ]
  }
 ],
 "metadata": {
  "kernelspec": {
   "display_name": "Python 3",
   "language": "python",
   "name": "python3"
  },
  "language_info": {
   "codemirror_mode": {
    "name": "ipython",
    "version": 3
   },
   "file_extension": ".py",
   "mimetype": "text/x-python",
   "name": "python",
   "nbconvert_exporter": "python",
   "pygments_lexer": "ipython3",
   "version": "3.8.10"
  },
  "toc": {
   "base_numbering": 1,
   "nav_menu": {},
   "number_sections": true,
   "sideBar": true,
   "skip_h1_title": false,
   "title_cell": "Table of Contents",
   "title_sidebar": "Contents",
   "toc_cell": false,
   "toc_position": {},
   "toc_section_display": true,
   "toc_window_display": false
  }
 },
 "nbformat": 4,
 "nbformat_minor": 4
}
