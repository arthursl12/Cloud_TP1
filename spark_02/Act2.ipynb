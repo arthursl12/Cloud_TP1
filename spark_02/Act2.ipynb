{
 "cells": [
  {
   "cell_type": "code",
   "execution_count": 26,
   "metadata": {},
   "outputs": [],
   "source": [
    "import findspark\n",
    "findspark.init()"
   ]
  },
  {
   "cell_type": "code",
   "execution_count": 27,
   "metadata": {},
   "outputs": [],
   "source": [
    "import pyspark\n",
    "import os\n",
    "import subprocess\n",
    "import time\n",
    "import datetime\n",
    "import operator\n",
    "\n",
    "from subprocess import Popen, PIPE\n",
    "from pyspark.sql import SparkSession\n",
    "from collections import defaultdict\n",
    "from pyspark.sql.functions import col, asc,desc\n",
    "import pyspark.sql.functions as F\n",
    "from pyspark.sql.functions import col, max as max_, min as min_, first, when"
   ]
  },
  {
   "cell_type": "code",
   "execution_count": 28,
   "metadata": {},
   "outputs": [],
   "source": [
    "spark = SparkSession.builder.appName(\"Activity2\").getOrCreate()"
   ]
  },
  {
   "cell_type": "markdown",
   "metadata": {},
   "source": [
    "## Increased Followers"
   ]
  },
  {
   "cell_type": "code",
   "execution_count": 35,
   "metadata": {},
   "outputs": [
    {
     "data": {
      "text/plain": [
       "['hdfs://localhost:54310/datasets/covid/part-00000-5f4af8d5-3171-48e9-9a56-c5a7c7a84cc3-c000.json',\n",
       " 'hdfs://localhost:54310/datasets/covid/part-00001-5f4af8d5-3171-48e9-9a56-c5a7c7a84cc3-c000.json']"
      ]
     },
     "execution_count": 35,
     "metadata": {},
     "output_type": "execute_result"
    }
   ],
   "source": [
    "hdfs_prefix = 'hdfs://localhost:54310'\n",
    "# hdfs_prefix = 'hdfs://localhost:9000'\n",
    "prefix = f'{hdfs_prefix}/datasets/covid/'\n",
    "filename_prefix = prefix+'part-'\n",
    "filename_suffix = '-5f4af8d5-3171-48e9-9a56-c5a7c7a84cc3-c000.json'\n",
    "\n",
    "filenames = []\n",
    "for i in range(2):\n",
    "    filenames.append(filename_prefix+f\"{i:05d}\"+filename_suffix)\n",
    "filenames"
   ]
  },
  {
   "cell_type": "code",
   "execution_count": 22,
   "metadata": {},
   "outputs": [],
   "source": [
    "# Read all into a dataframe\n",
    "df = spark.read.json(filenames)"
   ]
  },
  {
   "cell_type": "code",
   "execution_count": 23,
   "metadata": {},
   "outputs": [],
   "source": [
    "# Convert datetime string to datetime type\n",
    "df = df.withColumn(\"created_at\", col(\"created_at\").cast(\"timestamp\"))"
   ]
  },
  {
   "cell_type": "code",
   "execution_count": 24,
   "metadata": {},
   "outputs": [
    {
     "data": {
      "text/plain": [
       "['account_created_at',\n",
       " 'account_lang',\n",
       " 'country_code',\n",
       " 'created_at',\n",
       " 'favourites_count',\n",
       " 'followers_count',\n",
       " 'friends_count',\n",
       " 'is_quote',\n",
       " 'is_retweet',\n",
       " 'lang',\n",
       " 'place_full_name',\n",
       " 'place_type',\n",
       " 'reply_to_status_id',\n",
       " 'retweet_count',\n",
       " 'screen_name',\n",
       " 'source',\n",
       " 'status_id',\n",
       " 'text',\n",
       " 'user_id',\n",
       " 'verified']"
      ]
     },
     "execution_count": 24,
     "metadata": {},
     "output_type": "execute_result"
    }
   ],
   "source": [
    "df.columns"
   ]
  },
  {
   "cell_type": "code",
   "execution_count": 37,
   "metadata": {},
   "outputs": [],
   "source": [
    "# Process every tweet (using regular for loop)\n",
    "verified_followers_min = defaultdict(lambda : (datetime.datetime.max,0))\n",
    "verified_followers_max = defaultdict(lambda : (datetime.datetime.min,0))\n",
    "active_counter = defaultdict(int)\n",
    "verifieds = set()\n",
    "\n",
    "for tweet in df.collect():\n",
    "    name = tweet.screen_name\n",
    "    verified = (tweet.verified == 'TRUE')\n",
    "    #print(tweet.screen_name)\n",
    "    \n",
    "    if (verified):\n",
    "        followers = int(tweet.followers_count)\n",
    "        tweet_date = datetime.datetime.strptime(tweet.created_at, '%Y-%m-%dT%H:%M:%SZ')\n",
    "        if (tweet_date < verified_followers_min[name][0]):\n",
    "            verified_followers_min[name] = (tweet_date,followers)\n",
    "        if (tweet_date > verified_followers_max[name][0]):\n",
    "            verified_followers_max[name] = (tweet_date,followers)\n",
    "        verifieds.add(name)\n",
    "        #print(tweet.screen_name)\n",
    "    active_counter[name] += 1"
   ]
  },
  {
   "cell_type": "code",
   "execution_count": 38,
   "metadata": {},
   "outputs": [
    {
     "data": {
      "text/plain": [
       "{'CECCgov': 7000,\n",
       " 'NewsweekEspanol': 0,\n",
       " 'tvnnoticias': 0,\n",
       " 'TUDNUSA': 0,\n",
       " 'ANCALERTS': 0,\n",
       " 'SSalud_mx': 0,\n",
       " 'AlBayanNews': 0}"
      ]
     },
     "execution_count": 38,
     "metadata": {},
     "output_type": "execute_result"
    }
   ],
   "source": [
    "# Find how much each verified gained\n",
    "verified_delta = {}\n",
    "for key,(_, count_final) in verified_followers_max.items():\n",
    "    count_initial = verified_followers_min[key][1]\n",
    "    verified_delta[key] = count_final-count_initial\n",
    "# Sort it\n",
    "verified_delta = list(sorted(verified_delta.items(), key=operator.itemgetter(1),reverse=True))\n",
    "verified_delta = dict(verified_delta[:1000])\n",
    "verified_delta"
   ]
  },
  {
   "cell_type": "code",
   "execution_count": 39,
   "metadata": {},
   "outputs": [
    {
     "data": {
      "text/plain": [
       "{'CECCgov': 3,\n",
       " 'ANCALERTS': 2,\n",
       " 'GradaNorteMX': 1,\n",
       " 'IMSS_SanLuis': 1,\n",
       " 'Milenio': 1,\n",
       " 'NewsweekEspanol': 1,\n",
       " 'tvnnoticias': 1,\n",
       " 'TUDNUSA': 1,\n",
       " 'SSalud_mx': 1,\n",
       " 'AlBayanNews': 1,\n",
       " 'americonsumer': 1,\n",
       " 'Haines4Laura': 1,\n",
       " 'temyboy': 1,\n",
       " 'leblanc_isa': 1}"
      ]
     },
     "execution_count": 39,
     "metadata": {},
     "output_type": "execute_result"
    }
   ],
   "source": [
    "# Find the most active users\n",
    "active_counter = list(sorted(active_counter.items(), key=operator.itemgetter(1),reverse=True))\n",
    "active_counter = dict(active_counter[:1000])\n",
    "active_counter"
   ]
  },
  {
   "cell_type": "code",
   "execution_count": 40,
   "metadata": {},
   "outputs": [],
   "source": [
    "# Output into\n",
    "output_file = \"myout.csv\"\n",
    "csv_file = open(output_file, \"w\")\n",
    "for acc, follower_delta in verified_delta.items():\n",
    "    active = (acc in active_counter)\n",
    "    csv_file.write(acc+\",\"+str(follower_delta)+\",\"+str(int(active))+\"\\n\")\n",
    "csv_file.close()"
   ]
  },
  {
   "cell_type": "markdown",
   "metadata": {},
   "source": [
    "## Using queries"
   ]
  },
  {
   "cell_type": "code",
   "execution_count": 97,
   "metadata": {},
   "outputs": [
    {
     "name": "stdout",
     "output_type": "stream",
     "text": [
      "+---------------+-----+\n",
      "|    screen_name|count|\n",
      "+---------------+-----+\n",
      "|        CECCgov|    3|\n",
      "|      ANCALERTS|    2|\n",
      "|      SSalud_mx|    1|\n",
      "|        Milenio|    1|\n",
      "|   IMSS_SanLuis|    1|\n",
      "|    AlBayanNews|    1|\n",
      "|  americonsumer|    1|\n",
      "|   GradaNorteMX|    1|\n",
      "|NewsweekEspanol|    1|\n",
      "|        TUDNUSA|    1|\n",
      "|    tvnnoticias|    1|\n",
      "|   Haines4Laura|    1|\n",
      "|        temyboy|    1|\n",
      "|    leblanc_isa|    1|\n",
      "+---------------+-----+\n",
      "\n"
     ]
    }
   ],
   "source": [
    "# Find the 1000 most active users\n",
    "actives = (\n",
    "    df \\\n",
    "        .groupby(\"screen_name\") \\\n",
    "        .count() \\\n",
    "        .orderBy(col(\"count\").desc()) \\\n",
    "        .limit(1000) \\\n",
    ")\n",
    "actives.show()"
   ]
  },
  {
   "cell_type": "code",
   "execution_count": 93,
   "metadata": {},
   "outputs": [
    {
     "name": "stdout",
     "output_type": "stream",
     "text": [
      "+---------------+-------------------+---------------+\n",
      "|    screen_name|         created_at|followers_count|\n",
      "+---------------+-------------------+---------------+\n",
      "|      ANCALERTS|2020-03-30 21:00:00|        4873740|\n",
      "|    AlBayanNews|2020-03-30 21:00:00|         754538|\n",
      "|        CECCgov|2020-03-31 20:59:59|          34367|\n",
      "|NewsweekEspanol|2020-03-30 21:00:00|          87295|\n",
      "|      SSalud_mx|2020-03-30 21:00:00|         838824|\n",
      "|        TUDNUSA|2020-03-30 21:00:00|         632332|\n",
      "|    tvnnoticias|2020-03-30 21:00:00|         809756|\n",
      "+---------------+-------------------+---------------+\n",
      "\n"
     ]
    }
   ],
   "source": [
    "# How many followers at the start of dataset, for verified accounts\n",
    "fol_start = \\\n",
    "(\n",
    "    df\n",
    "        .filter(col(\"Verified\") == 'TRUE')\n",
    "        .withColumn(\"AB\", F.struct(\"created_at\", \"followers_count\"))\n",
    "        .groupby(\"screen_name\")\n",
    "        # F.max(AB) selects AB-combinations with max `A`. If more\n",
    "        # than one combination remains the one with max `B` is selected. If\n",
    "        # after this identical combinations remain, a single one of them is picked\n",
    "        # randomly.\n",
    "        .agg(F.min(\"AB\").alias(\"max_AB\"))\n",
    "        .select(\"screen_name\", \"max_AB.created_at\", F.expr(\"max_AB.followers_count\"))\n",
    "        \n",
    ")\n",
    "fol_start.show()"
   ]
  },
  {
   "cell_type": "code",
   "execution_count": 94,
   "metadata": {},
   "outputs": [
    {
     "name": "stdout",
     "output_type": "stream",
     "text": [
      "+---------------+-------------------+---------------+\n",
      "|    screen_name|         created_at|followers_count|\n",
      "+---------------+-------------------+---------------+\n",
      "|      ANCALERTS|2020-03-30 21:00:00|        4873740|\n",
      "|    AlBayanNews|2020-03-30 21:00:00|         754538|\n",
      "|        CECCgov|2020-04-25 20:59:59|          41367|\n",
      "|NewsweekEspanol|2020-03-30 21:00:00|          87295|\n",
      "|      SSalud_mx|2020-03-30 21:00:00|         838824|\n",
      "|        TUDNUSA|2020-03-30 21:00:00|         632332|\n",
      "|    tvnnoticias|2020-03-30 21:00:00|         809756|\n",
      "+---------------+-------------------+---------------+\n",
      "\n"
     ]
    }
   ],
   "source": [
    "# How many followers at the end of dataset, for verified accounts\n",
    "fol_end = \\\n",
    "(\n",
    "    df\n",
    "        .filter(col(\"Verified\") == 'TRUE')\n",
    "        .withColumn(\"AB\", F.struct(\"created_at\", \"followers_count\"))\n",
    "        .groupby(\"screen_name\")\n",
    "        # F.max(AB) selects AB-combinations with max `A`. If more\n",
    "        # than one combination remains the one with max `B` is selected. If\n",
    "        # after this identical combinations remain, a single one of them is picked\n",
    "        # randomly.\n",
    "        .agg(F.max(\"AB\").alias(\"max_AB\"))\n",
    "        .select(\"screen_name\", \"max_AB.created_at\", F.expr(\"max_AB.followers_count\"))\n",
    "        \n",
    ")\n",
    "fol_end.show()"
   ]
  },
  {
   "cell_type": "code",
   "execution_count": 95,
   "metadata": {},
   "outputs": [
    {
     "name": "stdout",
     "output_type": "stream",
     "text": [
      "+---------------+---------+-------------------+---------------+\n",
      "|    screen_name|end_count|         created_at|followers_count|\n",
      "+---------------+---------+-------------------+---------------+\n",
      "|      ANCALERTS|  4873740|2020-03-30 21:00:00|        4873740|\n",
      "|    AlBayanNews|   754538|2020-03-30 21:00:00|         754538|\n",
      "|        CECCgov|    41367|2020-03-31 20:59:59|          34367|\n",
      "|NewsweekEspanol|    87295|2020-03-30 21:00:00|          87295|\n",
      "|      SSalud_mx|   838824|2020-03-30 21:00:00|         838824|\n",
      "|        TUDNUSA|   632332|2020-03-30 21:00:00|         632332|\n",
      "|    tvnnoticias|   809756|2020-03-30 21:00:00|         809756|\n",
      "+---------------+---------+-------------------+---------------+\n",
      "\n"
     ]
    }
   ],
   "source": [
    "# Join the two\n",
    "joined = fol_end \\\n",
    "    .select(\"screen_name\",fol_end.followers_count.alias(\"end_count\")) \\\n",
    "    .join(fol_start, on=\"screen_name\") \n",
    "joined.show()"
   ]
  },
  {
   "cell_type": "code",
   "execution_count": 96,
   "metadata": {},
   "outputs": [
    {
     "name": "stdout",
     "output_type": "stream",
     "text": [
      "+---------------+------+\n",
      "|    screen_name|Result|\n",
      "+---------------+------+\n",
      "|        CECCgov|  7000|\n",
      "|      ANCALERTS|     0|\n",
      "|    AlBayanNews|     0|\n",
      "|NewsweekEspanol|     0|\n",
      "|      SSalud_mx|     0|\n",
      "|        TUDNUSA|     0|\n",
      "|    tvnnoticias|     0|\n",
      "+---------------+------+\n",
      "\n"
     ]
    }
   ],
   "source": [
    "# How many followers gained the (top 1000 verified users)\n",
    "delta_df  = (\n",
    "    joined \\\n",
    "        .withColumn('Result', ( joined[\"end_count\"] - joined[\"followers_count\"] ) ) \\\n",
    "        .select(\"screen_name\",\"Result\") \\\n",
    "        .sort(desc(\"Result\")) \\\n",
    "        .limit(1000)\n",
    "        .withColumn(\"Result\", col(\"Result\").cast(\"int\"))\n",
    ")\n",
    "delta_df.show()"
   ]
  },
  {
   "cell_type": "code",
   "execution_count": 99,
   "metadata": {},
   "outputs": [
    {
     "name": "stdout",
     "output_type": "stream",
     "text": [
      "+-----------+-----+\n",
      "|screen_name|count|\n",
      "+-----------+-----+\n",
      "|    CECCgov|    3|\n",
      "|  ANCALERTS|    2|\n",
      "|  SSalud_mx|    1|\n",
      "+-----------+-----+\n",
      "\n"
     ]
    }
   ],
   "source": [
    "# Find the 1000 most active users\n",
    "actives = (\n",
    "    df \\\n",
    "        .groupby(\"screen_name\") \\\n",
    "        .count() \\\n",
    "        .orderBy(col(\"count\").desc()) \\\n",
    "        .limit(3) \\\n",
    ")\n",
    "actives.show()"
   ]
  },
  {
   "cell_type": "code",
   "execution_count": 116,
   "metadata": {},
   "outputs": [
    {
     "name": "stdout",
     "output_type": "stream",
     "text": [
      "+---------------+------------+--------+\n",
      "|    screen_name|Foll. Gained|IsActive|\n",
      "+---------------+------------+--------+\n",
      "|        CECCgov|        7000|       1|\n",
      "|      ANCALERTS|           0|       1|\n",
      "|    AlBayanNews|           0|       0|\n",
      "|NewsweekEspanol|           0|       0|\n",
      "|      SSalud_mx|           0|       1|\n",
      "|        TUDNUSA|           0|       0|\n",
      "|    tvnnoticias|           0|       0|\n",
      "+---------------+------------+--------+\n",
      "\n"
     ]
    }
   ],
   "source": [
    "result = (\n",
    "delta_df \\\n",
    "    .join(actives, on=\"screen_name\", how=\"left\") \\\n",
    "    .select(\"screen_name\", col(\"Result\").alias(\"Foll. Gained\"), when(col(\"count\").isNotNull(), 1).otherwise(0).alias(\"IsActive\")) \\\n",
    ")\n",
    "result.show()"
   ]
  },
  {
   "cell_type": "code",
   "execution_count": 119,
   "metadata": {},
   "outputs": [],
   "source": [
    "result.coalesce(1).write.csv(\"myout3.csv\")"
   ]
  },
  {
   "cell_type": "code",
   "execution_count": null,
   "metadata": {},
   "outputs": [],
   "source": []
  },
  {
   "cell_type": "code",
   "execution_count": null,
   "metadata": {},
   "outputs": [],
   "source": []
  },
  {
   "cell_type": "code",
   "execution_count": null,
   "metadata": {},
   "outputs": [],
   "source": []
  },
  {
   "cell_type": "code",
   "execution_count": 41,
   "metadata": {},
   "outputs": [
    {
     "name": "stdout",
     "output_type": "stream",
     "text": [
      "+---------------+-----+\n",
      "|    screen_name|count|\n",
      "+---------------+-----+\n",
      "|        CECCgov|    3|\n",
      "|      ANCALERTS|    2|\n",
      "|      SSalud_mx|    1|\n",
      "|    AlBayanNews|    1|\n",
      "|NewsweekEspanol|    1|\n",
      "|        TUDNUSA|    1|\n",
      "|    tvnnoticias|    1|\n",
      "+---------------+-----+\n",
      "\n"
     ]
    }
   ],
   "source": [
    "# Find the 1000 most active *verified* users\n",
    "df \\\n",
    "    .filter(\"verified == 'TRUE'\") \\\n",
    "    .groupby(\"screen_name\") \\\n",
    "    .count() \\\n",
    "    .orderBy(col(\"count\").desc()) \\\n",
    "    .limit(1000) \\\n",
    "    .show()"
   ]
  },
  {
   "cell_type": "code",
   "execution_count": 47,
   "metadata": {},
   "outputs": [
    {
     "name": "stdout",
     "output_type": "stream",
     "text": [
      "+---------------+-------------------+----------------------+\n",
      "|    screen_name|    max(created_at)|first(followers_count)|\n",
      "+---------------+-------------------+----------------------+\n",
      "|      ANCALERTS|2020-03-30 21:00:00|               4873740|\n",
      "|    AlBayanNews|2020-03-30 21:00:00|                754538|\n",
      "|        CECCgov|2020-04-25 20:59:59|                 34367|\n",
      "|   GradaNorteMX|2020-03-30 21:00:00|                  1846|\n",
      "|   Haines4Laura|2020-03-31 20:59:59|                  1125|\n",
      "|   IMSS_SanLuis|2020-03-30 21:00:00|                  1012|\n",
      "|        Milenio|2020-03-30 21:00:00|                  null|\n",
      "|NewsweekEspanol|2020-03-30 21:00:00|                 87295|\n",
      "|      SSalud_mx|2020-03-30 21:00:00|                838824|\n",
      "|        TUDNUSA|2020-03-30 21:00:00|                632332|\n",
      "|  americonsumer|2020-03-31 20:59:59|                  3176|\n",
      "|    leblanc_isa|2020-03-31 20:59:59|                   953|\n",
      "|        temyboy|2020-03-31 20:59:59|                  8229|\n",
      "|    tvnnoticias|2020-03-30 21:00:00|                809756|\n",
      "+---------------+-------------------+----------------------+\n",
      "\n"
     ]
    }
   ],
   "source": [
    "# Last tweet of that account in the dataset\n",
    "df  \\\n",
    "    .groupBy(\"screen_name\") \\\n",
    "    .agg(max_(\"created_at\"), first(\"followers_count\")) \\\n",
    "    .show()"
   ]
  },
  {
   "cell_type": "code",
   "execution_count": 19,
   "metadata": {},
   "outputs": [
    {
     "name": "stdout",
     "output_type": "stream",
     "text": [
      "+---------------+-------------------+\n",
      "|    screen_name|    min(created_at)|\n",
      "+---------------+-------------------+\n",
      "|      SSalud_mx|2020-03-30 21:00:00|\n",
      "|      ANCALERTS|2020-03-30 21:00:00|\n",
      "|        Milenio|2020-03-30 21:00:00|\n",
      "|   IMSS_SanLuis|2020-03-30 21:00:00|\n",
      "|    AlBayanNews|2020-03-30 21:00:00|\n",
      "|  americonsumer|2020-03-31 20:59:59|\n",
      "|   GradaNorteMX|2020-03-30 21:00:00|\n",
      "|NewsweekEspanol|2020-03-30 21:00:00|\n",
      "|        TUDNUSA|2020-03-30 21:00:00|\n",
      "|    tvnnoticias|2020-03-30 21:00:00|\n",
      "|   Haines4Laura|2020-03-31 20:59:59|\n",
      "|        temyboy|2020-03-31 20:59:59|\n",
      "|    leblanc_isa|2020-03-31 20:59:59|\n",
      "|        CECCgov|2020-03-31 20:59:59|\n",
      "+---------------+-------------------+\n",
      "\n"
     ]
    }
   ],
   "source": [
    "# First tweet of that account in the dataset\n",
    "df \\\n",
    "    .groupBy(\"screen_name\") \\\n",
    "    .agg(min_(\"created_at\")) \\\n",
    "    .show()"
   ]
  },
  {
   "cell_type": "code",
   "execution_count": 27,
   "metadata": {},
   "outputs": [
    {
     "name": "stdout",
     "output_type": "stream",
     "text": [
      "+---------------+-------------------+--------------------+\n",
      "|    screen_name|    min(created_at)|min(followers_count)|\n",
      "+---------------+-------------------+--------------------+\n",
      "|      ANCALERTS|2020-03-30 21:00:00|             4873740|\n",
      "|    AlBayanNews|2020-03-30 21:00:00|              754538|\n",
      "|        CECCgov|2020-03-31 20:59:59|               34367|\n",
      "|   GradaNorteMX|2020-03-30 21:00:00|                1846|\n",
      "|   Haines4Laura|2020-03-31 20:59:59|                1125|\n",
      "|   IMSS_SanLuis|2020-03-30 21:00:00|                1012|\n",
      "|        Milenio|2020-03-30 21:00:00|                null|\n",
      "|NewsweekEspanol|2020-03-30 21:00:00|               87295|\n",
      "|      SSalud_mx|2020-03-30 21:00:00|              838824|\n",
      "|        TUDNUSA|2020-03-30 21:00:00|              632332|\n",
      "|  americonsumer|2020-03-31 20:59:59|                3176|\n",
      "|    leblanc_isa|2020-03-31 20:59:59|                 953|\n",
      "|        temyboy|2020-03-31 20:59:59|                8229|\n",
      "|    tvnnoticias|2020-03-30 21:00:00|              809756|\n",
      "+---------------+-------------------+--------------------+\n",
      "\n"
     ]
    }
   ],
   "source": [
    "# First tweet of that account in the dataset\n",
    "df \\\n",
    "    .groupBy(\"screen_name\") \\\n",
    "    .agg(min_(\"created_at\"), min_(\"followers_count\")) \\\n",
    "    .show()"
   ]
  },
  {
   "cell_type": "code",
   "execution_count": 193,
   "metadata": {},
   "outputs": [
    {
     "ename": "AttributeError",
     "evalue": "'str' object has no attribute 'max_'",
     "output_type": "error",
     "traceback": [
      "\u001b[0;31m---------------------------------------------------------------------------\u001b[0m",
      "\u001b[0;31mAttributeError\u001b[0m                            Traceback (most recent call last)",
      "\u001b[0;32m<ipython-input-193-b02b29f046c5>\u001b[0m in \u001b[0;36m<module>\u001b[0;34m\u001b[0m\n\u001b[0;32m----> 1\u001b[0;31m \u001b[0mdf2\u001b[0m\u001b[0;34m.\u001b[0m\u001b[0mgroupBy\u001b[0m\u001b[0;34m(\u001b[0m\u001b[0;34m'screen_name'\u001b[0m\u001b[0;34m)\u001b[0m\u001b[0;34m.\u001b[0m\u001b[0magg\u001b[0m\u001b[0;34m(\u001b[0m\u001b[0mf\u001b[0m\u001b[0;34m.\u001b[0m\u001b[0mmax_\u001b[0m\u001b[0;34m(\u001b[0m\u001b[0;34m'created_at'\u001b[0m\u001b[0;34m)\u001b[0m\u001b[0;34m)\u001b[0m\u001b[0;34m.\u001b[0m\u001b[0mshow\u001b[0m\u001b[0;34m(\u001b[0m\u001b[0;34m)\u001b[0m\u001b[0;34m\u001b[0m\u001b[0;34m\u001b[0m\u001b[0m\n\u001b[0m",
      "\u001b[0;31mAttributeError\u001b[0m: 'str' object has no attribute 'max_'"
     ]
    }
   ],
   "source": [
    "df2\n",
    "    .with\n",
    "\n",
    ".groupBy('screen_name').agg(f.max_('created_at')).show()"
   ]
  },
  {
   "cell_type": "code",
   "execution_count": 183,
   "metadata": {},
   "outputs": [],
   "source": [
    "from pyspark.sql import Window"
   ]
  },
  {
   "cell_type": "code",
   "execution_count": 185,
   "metadata": {},
   "outputs": [
    {
     "ename": "AttributeError",
     "evalue": "'str' object has no attribute 'max'",
     "output_type": "error",
     "traceback": [
      "\u001b[0;31m---------------------------------------------------------------------------\u001b[0m",
      "\u001b[0;31mAttributeError\u001b[0m                            Traceback (most recent call last)",
      "\u001b[0;32m<ipython-input-185-c6e61289549a>\u001b[0m in \u001b[0;36m<module>\u001b[0;34m\u001b[0m\n\u001b[1;32m      1\u001b[0m \u001b[0mw\u001b[0m \u001b[0;34m=\u001b[0m \u001b[0mWindow\u001b[0m\u001b[0;34m.\u001b[0m\u001b[0mpartitionBy\u001b[0m\u001b[0;34m(\u001b[0m\u001b[0;34m'screen_name'\u001b[0m\u001b[0;34m)\u001b[0m\u001b[0;34m\u001b[0m\u001b[0;34m\u001b[0m\u001b[0m\n\u001b[0;32m----> 2\u001b[0;31m \u001b[0mdf2\u001b[0m\u001b[0;34m.\u001b[0m\u001b[0mwithColumn\u001b[0m\u001b[0;34m(\u001b[0m\u001b[0;34m'maxB'\u001b[0m\u001b[0;34m,\u001b[0m \u001b[0mf\u001b[0m\u001b[0;34m.\u001b[0m\u001b[0mmax\u001b[0m\u001b[0;34m(\u001b[0m\u001b[0;34m'created_at'\u001b[0m\u001b[0;34m)\u001b[0m\u001b[0;34m.\u001b[0m\u001b[0mover\u001b[0m\u001b[0;34m(\u001b[0m\u001b[0mw\u001b[0m\u001b[0;34m)\u001b[0m\u001b[0;34m)\u001b[0m\u001b[0;31m\\\u001b[0m\u001b[0;34m\u001b[0m\u001b[0;34m\u001b[0m\u001b[0m\n\u001b[0m\u001b[1;32m      3\u001b[0m     \u001b[0;34m.\u001b[0m\u001b[0mwhere\u001b[0m\u001b[0;34m(\u001b[0m\u001b[0mf\u001b[0m\u001b[0;34m.\u001b[0m\u001b[0mcol\u001b[0m\u001b[0;34m(\u001b[0m\u001b[0;34m'created_at'\u001b[0m\u001b[0;34m)\u001b[0m \u001b[0;34m==\u001b[0m \u001b[0mf\u001b[0m\u001b[0;34m.\u001b[0m\u001b[0mcol\u001b[0m\u001b[0;34m(\u001b[0m\u001b[0;34m'maxB'\u001b[0m\u001b[0;34m)\u001b[0m\u001b[0;34m)\u001b[0m\u001b[0;31m\\\u001b[0m\u001b[0;34m\u001b[0m\u001b[0;34m\u001b[0m\u001b[0m\n\u001b[1;32m      4\u001b[0m     \u001b[0;34m.\u001b[0m\u001b[0mdrop\u001b[0m\u001b[0;34m(\u001b[0m\u001b[0;34m'maxB'\u001b[0m\u001b[0;34m)\u001b[0m\u001b[0;31m\\\u001b[0m\u001b[0;34m\u001b[0m\u001b[0;34m\u001b[0m\u001b[0m\n\u001b[1;32m      5\u001b[0m     \u001b[0;34m.\u001b[0m\u001b[0mshow\u001b[0m\u001b[0;34m(\u001b[0m\u001b[0;34m)\u001b[0m\u001b[0;34m\u001b[0m\u001b[0;34m\u001b[0m\u001b[0m\n",
      "\u001b[0;31mAttributeError\u001b[0m: 'str' object has no attribute 'max'"
     ]
    }
   ],
   "source": [
    "w = Window.partitionBy('screen_name')\n",
    "df2.withColumn('maxB', f.max('created_at').over(w))\\\n",
    "    .where(f.col('created_at') == f.col('maxB'))\\\n",
    "    .drop('maxB')\\\n",
    "    .show()"
   ]
  },
  {
   "cell_type": "code",
   "execution_count": 182,
   "metadata": {},
   "outputs": [
    {
     "ename": "AnalysisException",
     "evalue": "cannot resolve '_' given input columns: [account_created_at, account_lang, country_code, created_at, favourites_count, followers_count, friends_count, is_quote, is_retweet, lang, place_full_name, place_type, reply_to_status_id, retweet_count, screen_name, source, status_id, text, user_id, verified];\n'Project ['_]\n+- Relation [account_created_at#313,account_lang#314,country_code#315,created_at#316,favourites_count#317,followers_count#318,friends_count#319,is_quote#320,is_retweet#321,lang#322,place_full_name#323,place_type#324,reply_to_status_id#325,retweet_count#326,screen_name#327,source#328,status_id#329,text#330,user_id#331,verified#332] json\n",
     "output_type": "error",
     "traceback": [
      "\u001b[0;31m---------------------------------------------------------------------------\u001b[0m",
      "\u001b[0;31mAnalysisException\u001b[0m                         Traceback (most recent call last)",
      "\u001b[0;32m<ipython-input-182-5cbf549e1726>\u001b[0m in \u001b[0;36m<module>\u001b[0;34m\u001b[0m\n\u001b[0;32m----> 1\u001b[0;31m \u001b[0mdf\u001b[0m\u001b[0;31m \u001b[0m\u001b[0;31m\\\u001b[0m\u001b[0;34m\u001b[0m\u001b[0;34m\u001b[0m\u001b[0m\n\u001b[0m\u001b[1;32m      2\u001b[0m     \u001b[0;34m.\u001b[0m\u001b[0mselect\u001b[0m\u001b[0;34m(\u001b[0m\u001b[0mmin\u001b[0m\u001b[0;34m(\u001b[0m\u001b[0;34m\"created_at\"\u001b[0m\u001b[0;34m)\u001b[0m\u001b[0;34m)\u001b[0m\u001b[0;31m \u001b[0m\u001b[0;31m\\\u001b[0m\u001b[0;34m\u001b[0m\u001b[0;34m\u001b[0m\u001b[0m\n\u001b[1;32m      3\u001b[0m     \u001b[0;34m.\u001b[0m\u001b[0mfilter\u001b[0m\u001b[0;34m(\u001b[0m\u001b[0;34m\"verified == 'TRUE'\"\u001b[0m\u001b[0;34m)\u001b[0m\u001b[0;31m \u001b[0m\u001b[0;31m\\\u001b[0m\u001b[0;34m\u001b[0m\u001b[0;34m\u001b[0m\u001b[0m\n\u001b[1;32m      4\u001b[0m     \u001b[0;34m.\u001b[0m\u001b[0mgroupby\u001b[0m\u001b[0;34m(\u001b[0m\u001b[0;34m\"screen_name\"\u001b[0m\u001b[0;34m)\u001b[0m\u001b[0;31m \u001b[0m\u001b[0;31m\\\u001b[0m\u001b[0;34m\u001b[0m\u001b[0;34m\u001b[0m\u001b[0m\n\u001b[1;32m      5\u001b[0m     \u001b[0;34m.\u001b[0m\u001b[0mshow\u001b[0m\u001b[0;34m(\u001b[0m\u001b[0;34m)\u001b[0m\u001b[0;34m\u001b[0m\u001b[0;34m\u001b[0m\u001b[0m\n",
      "\u001b[0;32m/opt/spark/python/pyspark/sql/dataframe.py\u001b[0m in \u001b[0;36mselect\u001b[0;34m(self, *cols)\u001b[0m\n\u001b[1;32m   1683\u001b[0m         \u001b[0;34m[\u001b[0m\u001b[0mRow\u001b[0m\u001b[0;34m(\u001b[0m\u001b[0mname\u001b[0m\u001b[0;34m=\u001b[0m\u001b[0;34m'Alice'\u001b[0m\u001b[0;34m,\u001b[0m \u001b[0mage\u001b[0m\u001b[0;34m=\u001b[0m\u001b[0;36m12\u001b[0m\u001b[0;34m)\u001b[0m\u001b[0;34m,\u001b[0m \u001b[0mRow\u001b[0m\u001b[0;34m(\u001b[0m\u001b[0mname\u001b[0m\u001b[0;34m=\u001b[0m\u001b[0;34m'Bob'\u001b[0m\u001b[0;34m,\u001b[0m \u001b[0mage\u001b[0m\u001b[0;34m=\u001b[0m\u001b[0;36m15\u001b[0m\u001b[0;34m)\u001b[0m\u001b[0;34m]\u001b[0m\u001b[0;34m\u001b[0m\u001b[0;34m\u001b[0m\u001b[0m\n\u001b[1;32m   1684\u001b[0m         \"\"\"\n\u001b[0;32m-> 1685\u001b[0;31m         \u001b[0mjdf\u001b[0m \u001b[0;34m=\u001b[0m \u001b[0mself\u001b[0m\u001b[0;34m.\u001b[0m\u001b[0m_jdf\u001b[0m\u001b[0;34m.\u001b[0m\u001b[0mselect\u001b[0m\u001b[0;34m(\u001b[0m\u001b[0mself\u001b[0m\u001b[0;34m.\u001b[0m\u001b[0m_jcols\u001b[0m\u001b[0;34m(\u001b[0m\u001b[0;34m*\u001b[0m\u001b[0mcols\u001b[0m\u001b[0;34m)\u001b[0m\u001b[0;34m)\u001b[0m\u001b[0;34m\u001b[0m\u001b[0;34m\u001b[0m\u001b[0m\n\u001b[0m\u001b[1;32m   1686\u001b[0m         \u001b[0;32mreturn\u001b[0m \u001b[0mDataFrame\u001b[0m\u001b[0;34m(\u001b[0m\u001b[0mjdf\u001b[0m\u001b[0;34m,\u001b[0m \u001b[0mself\u001b[0m\u001b[0;34m.\u001b[0m\u001b[0msql_ctx\u001b[0m\u001b[0;34m)\u001b[0m\u001b[0;34m\u001b[0m\u001b[0;34m\u001b[0m\u001b[0m\n\u001b[1;32m   1687\u001b[0m \u001b[0;34m\u001b[0m\u001b[0m\n",
      "\u001b[0;32m/opt/spark/python/lib/py4j-0.10.9.3-src.zip/py4j/java_gateway.py\u001b[0m in \u001b[0;36m__call__\u001b[0;34m(self, *args)\u001b[0m\n\u001b[1;32m   1319\u001b[0m \u001b[0;34m\u001b[0m\u001b[0m\n\u001b[1;32m   1320\u001b[0m         \u001b[0manswer\u001b[0m \u001b[0;34m=\u001b[0m \u001b[0mself\u001b[0m\u001b[0;34m.\u001b[0m\u001b[0mgateway_client\u001b[0m\u001b[0;34m.\u001b[0m\u001b[0msend_command\u001b[0m\u001b[0;34m(\u001b[0m\u001b[0mcommand\u001b[0m\u001b[0;34m)\u001b[0m\u001b[0;34m\u001b[0m\u001b[0;34m\u001b[0m\u001b[0m\n\u001b[0;32m-> 1321\u001b[0;31m         return_value = get_return_value(\n\u001b[0m\u001b[1;32m   1322\u001b[0m             answer, self.gateway_client, self.target_id, self.name)\n\u001b[1;32m   1323\u001b[0m \u001b[0;34m\u001b[0m\u001b[0m\n",
      "\u001b[0;32m/opt/spark/python/pyspark/sql/utils.py\u001b[0m in \u001b[0;36mdeco\u001b[0;34m(*a, **kw)\u001b[0m\n\u001b[1;32m    115\u001b[0m                 \u001b[0;31m# Hide where the exception came from that shows a non-Pythonic\u001b[0m\u001b[0;34m\u001b[0m\u001b[0;34m\u001b[0m\u001b[0;34m\u001b[0m\u001b[0m\n\u001b[1;32m    116\u001b[0m                 \u001b[0;31m# JVM exception message.\u001b[0m\u001b[0;34m\u001b[0m\u001b[0;34m\u001b[0m\u001b[0;34m\u001b[0m\u001b[0m\n\u001b[0;32m--> 117\u001b[0;31m                 \u001b[0;32mraise\u001b[0m \u001b[0mconverted\u001b[0m \u001b[0;32mfrom\u001b[0m \u001b[0;32mNone\u001b[0m\u001b[0;34m\u001b[0m\u001b[0;34m\u001b[0m\u001b[0m\n\u001b[0m\u001b[1;32m    118\u001b[0m             \u001b[0;32melse\u001b[0m\u001b[0;34m:\u001b[0m\u001b[0;34m\u001b[0m\u001b[0;34m\u001b[0m\u001b[0m\n\u001b[1;32m    119\u001b[0m                 \u001b[0;32mraise\u001b[0m\u001b[0;34m\u001b[0m\u001b[0;34m\u001b[0m\u001b[0m\n",
      "\u001b[0;31mAnalysisException\u001b[0m: cannot resolve '_' given input columns: [account_created_at, account_lang, country_code, created_at, favourites_count, followers_count, friends_count, is_quote, is_retweet, lang, place_full_name, place_type, reply_to_status_id, retweet_count, screen_name, source, status_id, text, user_id, verified];\n'Project ['_]\n+- Relation [account_created_at#313,account_lang#314,country_code#315,created_at#316,favourites_count#317,followers_count#318,friends_count#319,is_quote#320,is_retweet#321,lang#322,place_full_name#323,place_type#324,reply_to_status_id#325,retweet_count#326,screen_name#327,source#328,status_id#329,text#330,user_id#331,verified#332] json\n"
     ]
    }
   ],
   "source": [
    "df \\\n",
    "    .select(min(\"created_at\")) \\\n",
    "    .filter(\"verified == 'TRUE'\") \\\n",
    "    .groupby(\"screen_name\") \\\n",
    "    .show()"
   ]
  },
  {
   "cell_type": "code",
   "execution_count": null,
   "metadata": {},
   "outputs": [],
   "source": []
  },
  {
   "cell_type": "markdown",
   "metadata": {},
   "source": [
    "# OFF"
   ]
  },
  {
   "cell_type": "code",
   "execution_count": 4,
   "metadata": {},
   "outputs": [],
   "source": [
    "spark1 = SparkSession.builder.appName(\"Ops\").getOrCreate()"
   ]
  },
  {
   "cell_type": "code",
   "execution_count": 2,
   "metadata": {},
   "outputs": [
    {
     "name": "stdout",
     "output_type": "stream",
     "text": [
      "3.14143748\n"
     ]
    }
   ],
   "source": [
    "import pyspark\n",
    "import random\n",
    "sc = pyspark.SparkContext(appName=\"Pi\")\n",
    "num_samples = 100000000\n",
    "def inside(p):     \n",
    "    x, y = random.random(), random.random()\n",
    "    return x*x + y*y < 1\n",
    "count = sc.parallelize(range(0, num_samples)).filter(inside).count()\n",
    "pi = 4 * count / num_samples\n",
    "print(pi)\n",
    "sc.stop()"
   ]
  },
  {
   "cell_type": "code",
   "execution_count": 4,
   "metadata": {},
   "outputs": [],
   "source": [
    "from pyspark.sql import SparkSession"
   ]
  },
  {
   "cell_type": "code",
   "execution_count": 5,
   "metadata": {},
   "outputs": [],
   "source": [
    "spark = SparkSession.builder.appName(\"HelloLines\").getOrCreate()"
   ]
  },
  {
   "cell_type": "code",
   "execution_count": 52,
   "metadata": {},
   "outputs": [],
   "source": [
    "# rdd = sc.textFile(\"hdfs:/user/cunha/hello.txt\")\n",
    "sc = spark.sparkContext\n",
    "rdd = sc.textFile(\"part0.json\")\n",
    "\n",
    "lines = rdd.count()\n",
    "outrdd = sc.parallelize([lines])"
   ]
  },
  {
   "cell_type": "code",
   "execution_count": 49,
   "metadata": {},
   "outputs": [],
   "source": [
    "df = spark.read.json([\"part0.json\",\"part1.json\", \"part2.json\"])"
   ]
  },
  {
   "cell_type": "code",
   "execution_count": 50,
   "metadata": {},
   "outputs": [
    {
     "data": {
      "text/plain": [
       "['account_created_at',\n",
       " 'account_lang',\n",
       " 'country_code',\n",
       " 'created_at',\n",
       " 'favourites_count',\n",
       " 'followers_count',\n",
       " 'friends_count',\n",
       " 'is_quote',\n",
       " 'is_retweet',\n",
       " 'lang',\n",
       " 'place_full_name',\n",
       " 'place_type',\n",
       " 'reply_to_status_id',\n",
       " 'retweet_count',\n",
       " 'screen_name',\n",
       " 'source',\n",
       " 'status_id',\n",
       " 'text',\n",
       " 'user_id',\n",
       " 'verified']"
      ]
     },
     "execution_count": 50,
     "metadata": {},
     "output_type": "execute_result"
    }
   ],
   "source": [
    "df.columns"
   ]
  },
  {
   "cell_type": "code",
   "execution_count": 51,
   "metadata": {},
   "outputs": [
    {
     "data": {
      "text/plain": [
       "Column<'created_at'>"
      ]
     },
     "execution_count": 51,
     "metadata": {},
     "output_type": "execute_result"
    }
   ],
   "source": [
    "df.created_at"
   ]
  },
  {
   "cell_type": "code",
   "execution_count": 52,
   "metadata": {},
   "outputs": [
    {
     "data": {
      "text/plain": [
       "9"
      ]
     },
     "execution_count": 52,
     "metadata": {},
     "output_type": "execute_result"
    }
   ],
   "source": [
    "# Find the verified accounts\n",
    "verifieds = df.filter(df.verified == 'TRUE')\n",
    "verifieds.count()"
   ]
  },
  {
   "cell_type": "code",
   "execution_count": 53,
   "metadata": {},
   "outputs": [],
   "source": [
    "import time\n",
    "import datetime"
   ]
  },
  {
   "cell_type": "code",
   "execution_count": 54,
   "metadata": {},
   "outputs": [
    {
     "data": {
      "text/plain": [
       "datetime.datetime(2020, 3, 31, 0, 0)"
      ]
     },
     "execution_count": 54,
     "metadata": {},
     "output_type": "execute_result"
    }
   ],
   "source": [
    "date_time_str = '2020-03-31T00:00:00Z'\n",
    "date_time_obj1 = datetime.datetime.strptime(date_time_str, '%Y-%m-%dT%H:%M:%SZ')\n",
    "date_time_obj1"
   ]
  },
  {
   "cell_type": "code",
   "execution_count": 55,
   "metadata": {},
   "outputs": [
    {
     "data": {
      "text/plain": [
       "datetime.datetime(2020, 4, 20, 0, 0)"
      ]
     },
     "execution_count": 55,
     "metadata": {},
     "output_type": "execute_result"
    }
   ],
   "source": [
    "date_time_str = '2020-04-20T00:00:00Z'\n",
    "date_time_obj2 = datetime.datetime.strptime(date_time_str, '%Y-%m-%dT%H:%M:%SZ')\n",
    "date_time_obj2"
   ]
  },
  {
   "cell_type": "code",
   "execution_count": 56,
   "metadata": {},
   "outputs": [
    {
     "ename": "TypeError",
     "evalue": "'<' not supported between instances of 'datetime.datetime' and 'int'",
     "output_type": "error",
     "traceback": [
      "\u001b[0;31m---------------------------------------------------------------------------\u001b[0m",
      "\u001b[0;31mTypeError\u001b[0m                                 Traceback (most recent call last)",
      "\u001b[0;32m<ipython-input-56-727851287a2a>\u001b[0m in \u001b[0;36m<module>\u001b[0;34m\u001b[0m\n\u001b[0;32m----> 1\u001b[0;31m \u001b[0mdate_time_obj1\u001b[0m \u001b[0;34m<\u001b[0m \u001b[0;36m0\u001b[0m\u001b[0;34m\u001b[0m\u001b[0;34m\u001b[0m\u001b[0m\n\u001b[0m",
      "\u001b[0;31mTypeError\u001b[0m: '<' not supported between instances of 'datetime.datetime' and 'int'"
     ]
    }
   ],
   "source": [
    "date_time_obj1 < 0"
   ]
  },
  {
   "cell_type": "code",
   "execution_count": 21,
   "metadata": {},
   "outputs": [
    {
     "data": {
      "text/plain": [
       "datetime.datetime"
      ]
     },
     "execution_count": 21,
     "metadata": {},
     "output_type": "execute_result"
    }
   ],
   "source": [
    "type(date_time_obj)"
   ]
  },
  {
   "cell_type": "code",
   "execution_count": 38,
   "metadata": {},
   "outputs": [
    {
     "data": {
      "text/plain": [
       "87295"
      ]
     },
     "execution_count": 38,
     "metadata": {},
     "output_type": "execute_result"
    }
   ],
   "source": [
    "int(verifieds.collect()[0].followers_count)"
   ]
  },
  {
   "cell_type": "code",
   "execution_count": 12,
   "metadata": {},
   "outputs": [],
   "source": [
    "verified_followers = {}"
   ]
  },
  {
   "cell_type": "code",
   "execution_count": 44,
   "metadata": {},
   "outputs": [
    {
     "data": {
      "text/plain": [
       "datetime.datetime(1, 1, 1, 0, 0)"
      ]
     },
     "execution_count": 44,
     "metadata": {},
     "output_type": "execute_result"
    }
   ],
   "source": [
    "datetime.datetime.min"
   ]
  },
  {
   "cell_type": "code",
   "execution_count": 45,
   "metadata": {},
   "outputs": [
    {
     "data": {
      "text/plain": [
       "datetime.datetime(9999, 12, 31, 23, 59, 59, 999999)"
      ]
     },
     "execution_count": 45,
     "metadata": {},
     "output_type": "execute_result"
    }
   ],
   "source": [
    "datetime.datetime.max"
   ]
  },
  {
   "cell_type": "code",
   "execution_count": 57,
   "metadata": {},
   "outputs": [],
   "source": [
    "from collections import defaultdict\n",
    "\n",
    "verified_followers_min = defaultdict(lambda : (datetime.datetime.max,0))\n",
    "verified_followers_max = defaultdict(lambda : (datetime.datetime.min,0))"
   ]
  },
  {
   "cell_type": "code",
   "execution_count": 58,
   "metadata": {},
   "outputs": [
    {
     "name": "stdout",
     "output_type": "stream",
     "text": [
      "NewsweekEspanol\n",
      "tvnnoticias\n",
      "TUDNUSA\n",
      "ANCALERTS\n",
      "ANCALERTS\n",
      "SSalud_mx\n",
      "AlBayanNews\n",
      "CECCgov\n",
      "CECCgov\n"
     ]
    }
   ],
   "source": [
    "for acc in verifieds.collect():\n",
    "    name = acc.screen_name\n",
    "    followers = int(acc.followers_count)\n",
    "    tweet_date = datetime.datetime.strptime(acc.created_at, '%Y-%m-%dT%H:%M:%SZ')\n",
    "    \n",
    "    if (tweet_date < verified_followers_min[name][0]):\n",
    "        verified_followers_min[name] = (tweet_date,followers)\n",
    "    if (tweet_date > verified_followers_max[name][0]):\n",
    "        verified_followers_max[name] = (tweet_date,followers)\n",
    "    print(acc.screen_name)"
   ]
  },
  {
   "cell_type": "code",
   "execution_count": 59,
   "metadata": {},
   "outputs": [
    {
     "data": {
      "text/plain": [
       "defaultdict(<function __main__.<lambda>()>,\n",
       "            {'NewsweekEspanol': (datetime.datetime(2020, 3, 31, 0, 0), 87295),\n",
       "             'tvnnoticias': (datetime.datetime(2020, 3, 31, 0, 0), 809756),\n",
       "             'TUDNUSA': (datetime.datetime(2020, 3, 31, 0, 0), 632332),\n",
       "             'ANCALERTS': (datetime.datetime(2020, 3, 31, 0, 0), 4873740),\n",
       "             'SSalud_mx': (datetime.datetime(2020, 3, 31, 0, 0), 838824),\n",
       "             'AlBayanNews': (datetime.datetime(2020, 3, 31, 0, 0), 754538),\n",
       "             'CECCgov': (datetime.datetime(2020, 3, 31, 23, 59, 59), 34367)})"
      ]
     },
     "execution_count": 59,
     "metadata": {},
     "output_type": "execute_result"
    }
   ],
   "source": [
    "verified_followers_min"
   ]
  },
  {
   "cell_type": "code",
   "execution_count": 60,
   "metadata": {},
   "outputs": [
    {
     "data": {
      "text/plain": [
       "defaultdict(<function __main__.<lambda>()>,\n",
       "            {'NewsweekEspanol': (datetime.datetime(2020, 3, 31, 0, 0), 87295),\n",
       "             'tvnnoticias': (datetime.datetime(2020, 3, 31, 0, 0), 809756),\n",
       "             'TUDNUSA': (datetime.datetime(2020, 3, 31, 0, 0), 632332),\n",
       "             'ANCALERTS': (datetime.datetime(2020, 3, 31, 0, 0), 4873740),\n",
       "             'SSalud_mx': (datetime.datetime(2020, 3, 31, 0, 0), 838824),\n",
       "             'AlBayanNews': (datetime.datetime(2020, 3, 31, 0, 0), 754538),\n",
       "             'CECCgov': (datetime.datetime(2020, 4, 20, 23, 59, 59), 99367)})"
      ]
     },
     "execution_count": 60,
     "metadata": {},
     "output_type": "execute_result"
    }
   ],
   "source": [
    "verified_followers_max"
   ]
  },
  {
   "cell_type": "code",
   "execution_count": 63,
   "metadata": {},
   "outputs": [],
   "source": [
    "verified_delta = {}\n",
    "for key,(_, count_final) in verified_followers_max.items():\n",
    "    count_initial = verified_followers_min[key][1]\n",
    "    verified_delta[key] = count_final-count_initial"
   ]
  },
  {
   "cell_type": "code",
   "execution_count": 64,
   "metadata": {},
   "outputs": [
    {
     "data": {
      "text/plain": [
       "{'NewsweekEspanol': 0,\n",
       " 'tvnnoticias': 0,\n",
       " 'TUDNUSA': 0,\n",
       " 'ANCALERTS': 0,\n",
       " 'SSalud_mx': 0,\n",
       " 'AlBayanNews': 0,\n",
       " 'CECCgov': 65000}"
      ]
     },
     "execution_count": 64,
     "metadata": {},
     "output_type": "execute_result"
    }
   ],
   "source": [
    "verified_delta"
   ]
  },
  {
   "cell_type": "code",
   "execution_count": 51,
   "metadata": {},
   "outputs": [
    {
     "name": "stdout",
     "output_type": "stream",
     "text": [
      "root\n",
      " |-- firstname: string (nullable = true)\n",
      " |-- middlename: string (nullable = true)\n",
      " |-- lastname: string (nullable = true)\n",
      " |-- id: string (nullable = true)\n",
      " |-- gender: string (nullable = true)\n",
      " |-- salary: integer (nullable = true)\n",
      "\n",
      "+---------+----------+--------+-----+------+------+\n",
      "|firstname|middlename|lastname|id   |gender|salary|\n",
      "+---------+----------+--------+-----+------+------+\n",
      "|James    |          |Smith   |36636|M     |3000  |\n",
      "|Michael  |Rose      |        |40288|M     |4000  |\n",
      "|Robert   |          |Williams|42114|M     |4000  |\n",
      "|Maria    |Anne      |Jones   |39192|F     |4000  |\n",
      "|Jen      |Mary      |Brown   |     |F     |-1    |\n",
      "+---------+----------+--------+-----+------+------+\n",
      "\n"
     ]
    }
   ],
   "source": [
    "from pyspark.sql.types import StructType,StructField, StringType, IntegerType\n",
    "data2 = [(\"James\",\"\",\"Smith\",\"36636\",\"M\",3000),\n",
    "    (\"Michael\",\"Rose\",\"\",\"40288\",\"M\",4000),\n",
    "    (\"Robert\",\"\",\"Williams\",\"42114\",\"M\",4000),\n",
    "    (\"Maria\",\"Anne\",\"Jones\",\"39192\",\"F\",4000),\n",
    "    (\"Jen\",\"Mary\",\"Brown\",\"\",\"F\",-1)\n",
    "  ]\n",
    "\n",
    "schema = StructType([ \\\n",
    "    StructField(\"firstname\",StringType(),True), \\\n",
    "    StructField(\"middlename\",StringType(),True), \\\n",
    "    StructField(\"lastname\",StringType(),True), \\\n",
    "    StructField(\"id\", StringType(), True), \\\n",
    "    StructField(\"gender\", StringType(), True), \\\n",
    "    StructField(\"salary\", IntegerType(), True) \\\n",
    "  ])\n",
    " \n",
    "df2 = spark.createDataFrame(data=data2,schema=schema)\n",
    "df2.printSchema()\n",
    "df2.show(truncate=False)"
   ]
  },
  {
   "cell_type": "code",
   "execution_count": null,
   "metadata": {},
   "outputs": [],
   "source": []
  },
  {
   "cell_type": "code",
   "execution_count": 43,
   "metadata": {},
   "outputs": [
    {
     "data": {
      "text/plain": [
       "12"
      ]
     },
     "execution_count": 43,
     "metadata": {},
     "output_type": "execute_result"
    }
   ],
   "source": [
    "df.count()"
   ]
  },
  {
   "cell_type": "code",
   "execution_count": 36,
   "metadata": {},
   "outputs": [
    {
     "data": {
      "text/plain": [
       "[Row(account_created_at='2014-08-10T21:20:32Z', account_lang=None, country_code=None, created_at='2020-03-31T00:00:00Z', favourites_count='1472', followers_count='1846', friends_count='252', is_quote='FALSE', is_retweet='FALSE', lang='es', reply_to_status_id=None, retweet_count='0', screen_name='GradaNorteMX', source='TweetDeck', status_id='1244776423073542144', text='Cuando mejor iban las cosas en el circuito de tenis universitario de Estados Unidos, el #sonorense Alán Rubio volvió a Hermosillo ante la pandemia del #coronavirus 😕🤦🏽\\u200d♂️🇲🇽🇺🇸  🎾 https://t.co/SldPvrP81A https://t.co/7x8W8MwQuR', user_id='2722502906', verified='FALSE'),\n",
       " Row(account_created_at='2017-05-04T22:00:38Z', account_lang=None, country_code=None, created_at='2020-03-31T00:00:00Z', favourites_count='300', followers_count='1012', friends_count='41', is_quote='FALSE', is_retweet='FALSE', lang='es', reply_to_status_id=None, retweet_count='0', screen_name='IMSS_SanLuis', source='TweetDeck', status_id='1244776423593775105', text='Para prevenir el COVID-19 la distancia es importante. #PrevenciónCoronavirus #Coronavirus #COVID19  #HolaEsSuficiente #SanaDistancia https://t.co/CZMPHHWheR', user_id='860252856829587457', verified='FALSE'),\n",
       " Row(account_created_at=None, account_lang='162', country_code='0', created_at='2020-03-31T00:00:00Z', favourites_count='FALSE', followers_count=None, friends_count='4532232', is_quote=None, is_retweet='FALSE', lang='TRUE', reply_to_status_id='Twitter Media Studio', retweet_count='7', screen_name='Milenio', source=' AMLO se tome las cosas en serio y seguramente la sociedad participará junto a él para enfrentarse al #Covid19\\\\\"  La opinión de Federico @Berrueto en #MILENIOAlMomento https://t.co/hvPxVxELPi\"', status_id='1244776422037692417', text='\"▶ \\\\\"Es deseable que en este momento', user_id='24969337', verified='2009-03-17T22:26:38Z'),\n",
       " Row(account_created_at='2009-11-20T21:36:41Z', account_lang=None, country_code=None, created_at='2020-03-31T00:00:00Z', favourites_count='2207', followers_count='87295', friends_count='830', is_quote='FALSE', is_retweet='FALSE', lang='es', reply_to_status_id=None, retweet_count='3', screen_name='NewsweekEspanol', source='TweetDeck', status_id='1244776422079705092', text='“Tú eres tu pareja sexual más segura”: la guía de sexo para la pandemia de #COVID19 de NY https://t.co/Se4buz84Ec', user_id='91430932', verified='TRUE'),\n",
       " Row(account_created_at='2011-05-16T14:51:19Z', account_lang=None, country_code=None, created_at='2020-03-31T00:00:00Z', favourites_count='18675', followers_count='809756', friends_count='1611', is_quote='FALSE', is_retweet='FALSE', lang='es', reply_to_status_id=None, retweet_count='4', screen_name='tvnnoticias', source='Twitter Media Studio', status_id='1244776422209536002', text='Los taxis tienen un nuevo horario de circulación en Panamá y únicamente los conductores que están brindando apoyo en el traslado del cuerpo médico, podrán transitar en horarios fuera de lo establecido. https://t.co/ufBtMLTWiI #NoticiasTVN #COVID19 https://t.co/rYuz0lTgMr', user_id='299693451', verified='TRUE'),\n",
       " Row(account_created_at='2009-11-11T16:42:28Z', account_lang=None, country_code=None, created_at='2020-03-31T00:00:00Z', favourites_count='9573', followers_count='632332', friends_count='1111', is_quote='FALSE', is_retweet='FALSE', lang='es', reply_to_status_id=None, retweet_count='0', screen_name='TUDNUSA', source='TweetDeck', status_id='1244776421953806337', text='Sin futbol hasta que todos los jugadores se vacunen  #COVID19 I #TuLigaMx I #MeQuedoEnCasa   https://t.co/6OPPD0u6Ld', user_id='89225092', verified='TRUE'),\n",
       " Row(account_created_at='2009-06-04T21:26:24Z', account_lang=None, country_code=None, created_at='2020-03-31T00:00:00Z', favourites_count='5450', followers_count='4873740', friends_count='776', is_quote='FALSE', is_retweet='FALSE', lang='en', reply_to_status_id=None, retweet_count='3', screen_name='ANCALERTS', source='Twitter Media Studio', status_id='1244776422582833154', text='Here are some tips on how you can best protect yourself against #COVID19. https://t.co/B5VImx0YLN', user_id='44728980', verified='TRUE'),\n",
       " Row(account_created_at='2009-06-04T21:26:24Z', account_lang=None, country_code=None, created_at='2020-03-31T00:00:00Z', favourites_count='5450', followers_count='4873740', friends_count='776', is_quote='FALSE', is_retweet='FALSE', lang='en', reply_to_status_id=None, retweet_count='5', screen_name='ANCALERTS', source='TweetDeck', status_id='1244776421257629698', text='New York welcomes hospital ship as coronavirus accelerates #COVID19 https://t.co/dHMzlI2IrX', user_id='44728980', verified='TRUE'),\n",
       " Row(account_created_at='2010-04-12T16:53:45Z', account_lang=None, country_code=None, created_at='2020-03-31T00:00:00Z', favourites_count='3959', followers_count='838824', friends_count='213', is_quote='FALSE', is_retweet='FALSE', lang='es', reply_to_status_id=None, retweet_count='139', screen_name='SSalud_mx', source='TweetDeck', status_id='1244776421274406914', text='#ConferenciaDePrensa sobre el #Coronavirus #COVID19 a las 7 pm. #QuédateEnCasaYa y sigue la transmisión en nuestros perfiles de Facebook, Twitter y en https://t.co/BE7JBC7ARm. https://t.co/7ibri0NGgR', user_id='132225222', verified='TRUE'),\n",
       " Row(account_created_at='2010-02-14T18:20:05Z', account_lang=None, country_code=None, created_at='2020-03-31T00:00:00Z', favourites_count='2453', followers_count='754538', friends_count='70', is_quote='FALSE', is_retweet='FALSE', lang='ar', reply_to_status_id=None, retweet_count='2', screen_name='AlBayanNews', source='Twitter Media Studio', status_id='1244776422570254336', text='#كورونا يجبر #مجلس_الأمن على تصويت لم يحدث في تاريخه  https://t.co/6OxJ6ghDRZ #كوفيد_19 #كورونا_الجديد #فيروس_كورونا #COVID19 #البيان_القارئ_دائما https://t.co/EWvEvNfNt8', user_id='114251189', verified='TRUE'),\n",
       " Row(account_created_at='2011-05-14T12:52:27Z', account_lang=None, country_code=None, created_at='2020-03-31T23:59:59Z', favourites_count='31963', followers_count='3176', friends_count='4989', is_quote='FALSE', is_retweet='FALSE', lang='en', reply_to_status_id=None, retweet_count='0', screen_name='americonsumer', source='Twitter for iPhone', status_id='1245138805570424832', text='#DOJ seeks new emergency powers amid #coronavirus #pandemic - POLITICO https://t.co/aSWeu3xC72', user_id='298508497', verified='FALSE'),\n",
       " Row(account_created_at='2017-12-27T16:34:31Z', account_lang=None, country_code=None, created_at='2020-03-31T23:59:59Z', favourites_count='32246', followers_count='1125', friends_count='1248', is_quote='FALSE', is_retweet='FALSE', lang='en', reply_to_status_id=None, retweet_count='1', screen_name='Haines4Laura', source='Twitter Web App', status_id='1245138803720847362', text='\"And suddenly, Trump sorta gets it. \\\\\"This is not the flu.\\\\\" #Coronavirus\"', user_id='946056711277867009', verified='FALSE')]"
      ]
     },
     "execution_count": 36,
     "metadata": {},
     "output_type": "execute_result"
    }
   ],
   "source": [
    "df.collect()"
   ]
  },
  {
   "cell_type": "code",
   "execution_count": null,
   "metadata": {},
   "outputs": [],
   "source": [
    "list_of_jsons = rdd.collect()"
   ]
  },
  {
   "cell_type": "code",
   "execution_count": 27,
   "metadata": {},
   "outputs": [
    {
     "data": {
      "text/plain": [
       "12"
      ]
     },
     "execution_count": 27,
     "metadata": {},
     "output_type": "execute_result"
    }
   ],
   "source": [
    "len(rdd.collect())"
   ]
  },
  {
   "cell_type": "code",
   "execution_count": 20,
   "metadata": {},
   "outputs": [
    {
     "data": {
      "text/plain": [
       "12"
      ]
     },
     "execution_count": 20,
     "metadata": {},
     "output_type": "execute_result"
    }
   ],
   "source": [
    "lines"
   ]
  },
  {
   "cell_type": "code",
   "execution_count": null,
   "metadata": {},
   "outputs": [],
   "source": [
    "# The following will fail if the output directory exists:\n",
    "# outrdd.saveAsTextFile(\"hdfs:/user/cunha/hello-linecount-submit\")\n",
    "outrdd.saveAsTextFile(\"read02\")"
   ]
  },
  {
   "cell_type": "code",
   "execution_count": null,
   "metadata": {},
   "outputs": [],
   "source": [
    "sc.stop()"
   ]
  }
 ],
 "metadata": {
  "kernelspec": {
   "display_name": "Python 3",
   "language": "python",
   "name": "python3"
  },
  "language_info": {
   "codemirror_mode": {
    "name": "ipython",
    "version": 3
   },
   "file_extension": ".py",
   "mimetype": "text/x-python",
   "name": "python",
   "nbconvert_exporter": "python",
   "pygments_lexer": "ipython3",
   "version": "3.8.10"
  },
  "toc": {
   "base_numbering": 1,
   "nav_menu": {},
   "number_sections": true,
   "sideBar": true,
   "skip_h1_title": false,
   "title_cell": "Table of Contents",
   "title_sidebar": "Contents",
   "toc_cell": false,
   "toc_position": {},
   "toc_section_display": true,
   "toc_window_display": false
  }
 },
 "nbformat": 4,
 "nbformat_minor": 4
}
