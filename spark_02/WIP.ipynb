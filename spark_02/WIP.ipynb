{
 "cells": [
  {
   "cell_type": "code",
   "execution_count": 1,
   "metadata": {},
   "outputs": [],
   "source": [
    "l = [b'\\n', b'/datasets/covid/part-00000-5f4af8d5-3171-48e9-9a56-c5a7c7a84cc3-c000.json\\n', b'/datasets/covid/part-00001-5f4af8d5-3171-48e9-9a56-c5a7c7a84cc3-c000.json\\n', b'/datasets/covid/part-00002-5f4af8d5-3171-48e9-9a56-c5a7c7a84cc3-c000.json\\n', b'/datasets/covid/part-00003-5f4af8d5-3171-48e9-9a56-c5a7c7a84cc3-c000.json\\n', b'/datasets/covid/part-00004-5f4af8d5-3171-48e9-9a56-c5a7c7a84cc3-c000.json\\n', b'/datasets/covid/part-00005-5f4af8d5-3171-48e9-9a56-c5a7c7a84cc3-c000.json\\n', b'/datasets/covid/part-00006-5f4af8d5-3171-48e9-9a56-c5a7c7a84cc3-c000.json\\n', b'/datasets/covid/part-00007-5f4af8d5-3171-48e9-9a56-c5a7c7a84cc3-c000.json\\n', b'/datasets/covid/part-00008-5f4af8d5-3171-48e9-9a56-c5a7c7a84cc3-c000.json\\n', b'/datasets/covid/part-00009-5f4af8d5-3171-48e9-9a56-c5a7c7a84cc3-c000.json\\n', b'/datasets/covid/part-00010-5f4af8d5-3171-48e9-9a56-c5a7c7a84cc3-c000.json\\n', b'/datasets/covid/part-00011-5f4af8d5-3171-48e9-9a56-c5a7c7a84cc3-c000.json\\n', b'/datasets/covid/part-00012-5f4af8d5-3171-48e9-9a56-c5a7c7a84cc3-c000.json\\n', b'/datasets/covid/part-00013-5f4af8d5-3171-48e9-9a56-c5a7c7a84cc3-c000.json\\n', b'/datasets/covid/part-00014-5f4af8d5-3171-48e9-9a56-c5a7c7a84cc3-c000.json\\n', b'/datasets/covid/part-00015-5f4af8d5-3171-48e9-9a56-c5a7c7a84cc3-c000.json\\n', b'/datasets/covid/part-00016-5f4af8d5-3171-48e9-9a56-c5a7c7a84cc3-c000.json\\n', b'/datasets/covid/part-00017-5f4af8d5-3171-48e9-9a56-c5a7c7a84cc3-c000.json\\n', b'/datasets/covid/part-00018-5f4af8d5-3171-48e9-9a56-c5a7c7a84cc3-c000.json\\n', b'/datasets/covid/part-00019-5f4af8d5-3171-48e9-9a56-c5a7c7a84cc3-c000.json\\n', b'/datasets/covid/part-00020-5f4af8d5-3171-48e9-9a56-c5a7c7a84cc3-c000.json\\n', b'/datasets/covid/part-00021-5f4af8d5-3171-48e9-9a56-c5a7c7a84cc3-c000.json\\n', b'/datasets/covid/part-00022-5f4af8d5-3171-48e9-9a56-c5a7c7a84cc3-c000.json\\n', b'/datasets/covid/part-00023-5f4af8d5-3171-48e9-9a56-c5a7c7a84cc3-c000.json\\n', b'/datasets/covid/part-00024-5f4af8d5-3171-48e9-9a56-c5a7c7a84cc3-c000.json\\n', b'/datasets/covid/part-00025-5f4af8d5-3171-48e9-9a56-c5a7c7a84cc3-c000.json\\n', b'/datasets/covid/part-00026-5f4af8d5-3171-48e9-9a56-c5a7c7a84cc3-c000.json\\n', b'/datasets/covid/part-00027-5f4af8d5-3171-48e9-9a56-c5a7c7a84cc3-c000.json\\n', b'/datasets/covid/part-00028-5f4af8d5-3171-48e9-9a56-c5a7c7a84cc3-c000.json\\n', b'/datasets/covid/part-00029-5f4af8d5-3171-48e9-9a56-c5a7c7a84cc3-c000.json\\n', b'/datasets/covid/part-00030-5f4af8d5-3171-48e9-9a56-c5a7c7a84cc3-c000.json\\n', b'/datasets/covid/part-00031-5f4af8d5-3171-48e9-9a56-c5a7c7a84cc3-c000.json\\n']"
   ]
  },
  {
   "cell_type": "code",
   "execution_count": 7,
   "metadata": {},
   "outputs": [
    {
     "data": {
      "text/plain": [
       "['/datasets/covid/part-00000-5f4af8d5-3171-48e9-9a56-c5a7c7a84cc3-c000.json',\n",
       " '/datasets/covid/part-00001-5f4af8d5-3171-48e9-9a56-c5a7c7a84cc3-c000.json',\n",
       " '/datasets/covid/part-00002-5f4af8d5-3171-48e9-9a56-c5a7c7a84cc3-c000.json',\n",
       " '/datasets/covid/part-00003-5f4af8d5-3171-48e9-9a56-c5a7c7a84cc3-c000.json',\n",
       " '/datasets/covid/part-00004-5f4af8d5-3171-48e9-9a56-c5a7c7a84cc3-c000.json',\n",
       " '/datasets/covid/part-00005-5f4af8d5-3171-48e9-9a56-c5a7c7a84cc3-c000.json',\n",
       " '/datasets/covid/part-00006-5f4af8d5-3171-48e9-9a56-c5a7c7a84cc3-c000.json',\n",
       " '/datasets/covid/part-00007-5f4af8d5-3171-48e9-9a56-c5a7c7a84cc3-c000.json',\n",
       " '/datasets/covid/part-00008-5f4af8d5-3171-48e9-9a56-c5a7c7a84cc3-c000.json',\n",
       " '/datasets/covid/part-00009-5f4af8d5-3171-48e9-9a56-c5a7c7a84cc3-c000.json',\n",
       " '/datasets/covid/part-00010-5f4af8d5-3171-48e9-9a56-c5a7c7a84cc3-c000.json',\n",
       " '/datasets/covid/part-00011-5f4af8d5-3171-48e9-9a56-c5a7c7a84cc3-c000.json',\n",
       " '/datasets/covid/part-00012-5f4af8d5-3171-48e9-9a56-c5a7c7a84cc3-c000.json',\n",
       " '/datasets/covid/part-00013-5f4af8d5-3171-48e9-9a56-c5a7c7a84cc3-c000.json',\n",
       " '/datasets/covid/part-00014-5f4af8d5-3171-48e9-9a56-c5a7c7a84cc3-c000.json',\n",
       " '/datasets/covid/part-00015-5f4af8d5-3171-48e9-9a56-c5a7c7a84cc3-c000.json',\n",
       " '/datasets/covid/part-00016-5f4af8d5-3171-48e9-9a56-c5a7c7a84cc3-c000.json',\n",
       " '/datasets/covid/part-00017-5f4af8d5-3171-48e9-9a56-c5a7c7a84cc3-c000.json',\n",
       " '/datasets/covid/part-00018-5f4af8d5-3171-48e9-9a56-c5a7c7a84cc3-c000.json',\n",
       " '/datasets/covid/part-00019-5f4af8d5-3171-48e9-9a56-c5a7c7a84cc3-c000.json',\n",
       " '/datasets/covid/part-00020-5f4af8d5-3171-48e9-9a56-c5a7c7a84cc3-c000.json',\n",
       " '/datasets/covid/part-00021-5f4af8d5-3171-48e9-9a56-c5a7c7a84cc3-c000.json',\n",
       " '/datasets/covid/part-00022-5f4af8d5-3171-48e9-9a56-c5a7c7a84cc3-c000.json',\n",
       " '/datasets/covid/part-00023-5f4af8d5-3171-48e9-9a56-c5a7c7a84cc3-c000.json',\n",
       " '/datasets/covid/part-00024-5f4af8d5-3171-48e9-9a56-c5a7c7a84cc3-c000.json',\n",
       " '/datasets/covid/part-00025-5f4af8d5-3171-48e9-9a56-c5a7c7a84cc3-c000.json',\n",
       " '/datasets/covid/part-00026-5f4af8d5-3171-48e9-9a56-c5a7c7a84cc3-c000.json',\n",
       " '/datasets/covid/part-00027-5f4af8d5-3171-48e9-9a56-c5a7c7a84cc3-c000.json',\n",
       " '/datasets/covid/part-00028-5f4af8d5-3171-48e9-9a56-c5a7c7a84cc3-c000.json',\n",
       " '/datasets/covid/part-00029-5f4af8d5-3171-48e9-9a56-c5a7c7a84cc3-c000.json',\n",
       " '/datasets/covid/part-00030-5f4af8d5-3171-48e9-9a56-c5a7c7a84cc3-c000.json',\n",
       " '/datasets/covid/part-00031-5f4af8d5-3171-48e9-9a56-c5a7c7a84cc3-c000.json']"
      ]
     },
     "execution_count": 7,
     "metadata": {},
     "output_type": "execute_result"
    }
   ],
   "source": [
    "decoded = []\n",
    "l1 = l[1:]\n",
    "for file in l1:\n",
    "    decoded.append(file.decode()[:-1])\n",
    "decoded"
   ]
  },
  {
   "cell_type": "code",
   "execution_count": null,
   "metadata": {},
   "outputs": [],
   "source": []
  }
 ],
 "metadata": {
  "kernelspec": {
   "display_name": "Python 3",
   "language": "python",
   "name": "python3"
  },
  "language_info": {
   "codemirror_mode": {
    "name": "ipython",
    "version": 3
   },
   "file_extension": ".py",
   "mimetype": "text/x-python",
   "name": "python",
   "nbconvert_exporter": "python",
   "pygments_lexer": "ipython3",
   "version": "3.8.10"
  },
  "toc": {
   "base_numbering": 1,
   "nav_menu": {},
   "number_sections": true,
   "sideBar": true,
   "skip_h1_title": false,
   "title_cell": "Table of Contents",
   "title_sidebar": "Contents",
   "toc_cell": false,
   "toc_position": {},
   "toc_section_display": true,
   "toc_window_display": false
  }
 },
 "nbformat": 4,
 "nbformat_minor": 4
}
